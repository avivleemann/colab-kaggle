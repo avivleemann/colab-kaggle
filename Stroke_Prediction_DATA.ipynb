{
  "nbformat": 4,
  "nbformat_minor": 0,
  "metadata": {
    "colab": {
      "provenance": [],
      "mount_file_id": "1vbbIFcs9Y8-dELFlglshftzPDoVFXjkW",
      "authorship_tag": "ABX9TyN4fd9QBVATZ7Pm97EPOpVV",
      "include_colab_link": true
    },
    "kernelspec": {
      "name": "python3",
      "display_name": "Python 3"
    },
    "language_info": {
      "name": "python"
    }
  },
  "cells": [
    {
      "cell_type": "markdown",
      "metadata": {
        "id": "view-in-github",
        "colab_type": "text"
      },
      "source": [
        "<a href=\"https://colab.research.google.com/github/avivleemann/Data-science-best-resources/blob/master/Stroke_Prediction_DATA.ipynb\" target=\"_parent\"><img src=\"https://colab.research.google.com/assets/colab-badge.svg\" alt=\"Open In Colab\"/></a>"
      ]
    },
    {
      "cell_type": "code",
      "execution_count": 13,
      "metadata": {
        "colab": {
          "base_uri": "https://localhost:8080/"
        },
        "id": "g5a30VGR272O",
        "outputId": "313ac6d6-c5c4-4e4d-8378-3193ac01433e"
      },
      "outputs": [
        {
          "output_type": "stream",
          "name": "stdout",
          "text": [
            "Mounted at /content/gdrive\n"
          ]
        }
      ],
      "source": [
        "from google.colab import drive\n",
        "drive.mount('/content/gdrive')"
      ]
    },
    {
      "cell_type": "code",
      "source": [
        "import os\n",
        "os.environ['KAGGLE_CONFIG_DIR'] = \"/content/gdrive/MyDrive/kaggle\"\n",
        "# /content/gdrive/My Drive/Kaggle is the path where kaggle.json is present in the Google Drive"
      ],
      "metadata": {
        "id": "AEa7neKA3BAc"
      },
      "execution_count": 14,
      "outputs": []
    },
    {
      "cell_type": "code",
      "source": [
        "#changing the working directory\n",
        "%cd /content/gdrive/MyDrive/kaggle"
      ],
      "metadata": {
        "id": "XQa5ZI1j3OhL"
      },
      "execution_count": 19,
      "outputs": []
    },
    {
      "cell_type": "code",
      "source": [
        "!kaggle datasets download -d teamincribo/stroke-prediction"
      ],
      "metadata": {
        "colab": {
          "base_uri": "https://localhost:8080/"
        },
        "id": "vUnuEQTD3Y6c",
        "outputId": "deabfb49-6624-4d07-e24b-f816e7166271"
      },
      "execution_count": 16,
      "outputs": [
        {
          "output_type": "stream",
          "name": "stdout",
          "text": [
            "Downloading stroke-prediction.zip to /content/gdrive/MyDrive/kaggle\n",
            "\r  0% 0.00/628k [00:00<?, ?B/s]\n",
            "\r100% 628k/628k [00:00<00:00, 38.2MB/s]\n"
          ]
        }
      ]
    },
    {
      "cell_type": "code",
      "source": [
        "!ls"
      ],
      "metadata": {
        "colab": {
          "base_uri": "https://localhost:8080/"
        },
        "id": "8wggyrEq7wB1",
        "outputId": "c13ff893-549b-45de-c7c3-cafd6dfcfaa2"
      },
      "execution_count": 17,
      "outputs": [
        {
          "output_type": "stream",
          "name": "stdout",
          "text": [
            "kaggle.json  stroke-prediction.zip\n"
          ]
        }
      ]
    },
    {
      "cell_type": "code",
      "source": [
        "#unzipping the zip files and deleting the zip files\n",
        "!unzip \\*.zip  && rm *.zip"
      ],
      "metadata": {
        "colab": {
          "base_uri": "https://localhost:8080/"
        },
        "id": "FscSarxQ8BIy",
        "outputId": "63c4e69e-ebc8-46dc-9401-91c7df70b836"
      },
      "execution_count": 18,
      "outputs": [
        {
          "output_type": "stream",
          "name": "stdout",
          "text": [
            "Archive:  stroke-prediction.zip\n",
            "  inflating: README.md               \n",
            "  inflating: stroke_prediction_dataset.csv  \n"
          ]
        }
      ]
    },
    {
      "cell_type": "code",
      "source": [],
      "metadata": {
        "id": "vn8rIEAO-O0W"
      },
      "execution_count": null,
      "outputs": []
    }
  ]
}